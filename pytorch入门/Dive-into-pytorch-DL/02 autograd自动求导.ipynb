{
 "cells": [
  {
   "cell_type": "code",
   "execution_count": 1,
   "metadata": {},
   "outputs": [],
   "source": [
    "import torch as t"
   ]
  },
  {
   "cell_type": "code",
   "execution_count": 2,
   "metadata": {},
   "outputs": [],
   "source": [
    "########################################################所有神经网络的核心包autograd 它为张量上的所有操作提供了自动求导机制。\n",
    "\n",
    "###torch.Tensor 是这个包的核心类。如果设置它的属性 .requires_grad 为 True，那么它将会追踪对于该张量的所有操作。 \n",
    "###当完成计算后可以通过调用根节点 .backward()，来自动计算所有的梯度。\n",
    "###这个张量的所有梯度将会自动累加到.grad属性.\n",
    "\n",
    "###要阻止一个张量被跟踪历史，可以调用 .detach() 方法将其与计算历史分离，并阻止它未来的计算记录被跟踪。或者包裹在with t.no_grad():代码块中\n",
    "\n",
    "###还有一个类对于autograd的实现非常重要：Function。\n",
    "###Tensor 和 Function 互相连接生成了一个无圈图(acyclic graph)，它编码了完整的计算历史。\n",
    "###每个张量都有一个 .grad_fn 属性，该属性引用了创建 Tensor 自身的Function(除非这个张量是用户手动创建的，即这个张量的 grad_fn 是 None )。\n",
    "\n",
    "\n",
    "###如果需要计算导数，可以在 Tensor 上调用 .backward()。\n",
    "###如果 Tensor 是一个标量(即它包含一个元素的数据），则不需要为 backward() 指定任何参数，\n",
    "###但是如果它有更多的元素，则需要指定一个 gradient 参数，该参数是形状匹配的张量。\n"
   ]
  },
  {
   "cell_type": "code",
   "execution_count": 3,
   "metadata": {},
   "outputs": [
    {
     "name": "stdout",
     "output_type": "stream",
     "text": [
      "tensor([[1., 1.],\n",
      "        [1., 1.]], requires_grad=True) None\n",
      "tensor([[3., 3.],\n",
      "        [3., 3.]], grad_fn=<AddBackward0>) <AddBackward0 object at 0x000002286F67AF08>\n"
     ]
    }
   ],
   "source": [
    "##创建张量并追踪计算历史\n",
    "x=t.ones(2,2,requires_grad=True)\n",
    "print(x,x.grad_fn)#叶子节点grad_fn为none 是用户创造的 x.is_leaf=True\n",
    "y=x+2\n",
    "print(y,y.grad_fn)"
   ]
  },
  {
   "cell_type": "code",
   "execution_count": 4,
   "metadata": {},
   "outputs": [
    {
     "name": "stdout",
     "output_type": "stream",
     "text": [
      "tensor([[27., 27.],\n",
      "        [27., 27.]], grad_fn=<MulBackward0>)\n",
      "tensor(27., grad_fn=<MeanBackward0>)\n"
     ]
    }
   ],
   "source": [
    "z = y * y * 3\n",
    "out = z.mean()\n",
    "\n",
    "print(z)\n",
    "print(out)"
   ]
  },
  {
   "cell_type": "code",
   "execution_count": 5,
   "metadata": {},
   "outputs": [
    {
     "name": "stdout",
     "output_type": "stream",
     "text": [
      "tensor([[4.5000, 4.5000],\n",
      "        [4.5000, 4.5000]])\n"
     ]
    }
   ],
   "source": [
    "###梯度的反向传播\n",
    "\n",
    "###因为 out 是一个标量，因此 out.backward() 和 out.backward(torch.tensor(1.)) 等价。\n",
    "out.backward()\n",
    "print(x.grad)\n",
    "###图片手动推导"
   ]
  },
  {
   "cell_type": "code",
   "execution_count": 6,
   "metadata": {},
   "outputs": [
    {
     "name": "stdout",
     "output_type": "stream",
     "text": [
      "tensor([[5.5000, 5.5000],\n",
      "        [5.5000, 5.5000]])\n",
      "tensor([[1., 1.],\n",
      "        [1., 1.]])\n"
     ]
    }
   ],
   "source": [
    "#注意：grad在反向传播过程中是累加的(accumulated)，这意味着每一次运行反向传播，\n",
    "#梯度都会累加之前的梯度，所以一般在反向传播之前需把梯度清零。\n",
    "out2 = x.sum()\n",
    "out2.backward()\n",
    "print(x.grad)\n",
    "\n",
    "out3 = x.sum()\n",
    "x.grad.data.zero_()#   in-place操作清零\n",
    "out3.backward()\n",
    "print(x.grad)"
   ]
  },
  {
   "cell_type": "code",
   "execution_count": 7,
   "metadata": {},
   "outputs": [
    {
     "name": "stdout",
     "output_type": "stream",
     "text": [
      "y= tensor([2., 4., 6., 8.], grad_fn=<MulBackward0>)\n",
      "z= tensor([[2., 4.],\n",
      "        [6., 8.]], grad_fn=<ViewBackward>)\n"
     ]
    }
   ],
   "source": [
    "###为什么在y.backward()时，如果y是标量，则不需要为backward()传入任何参数；否则，需要传入一个与y同形的Tensor? \n",
    "###简单来说就是为了避免向量（甚至更高维张量）对张量求导，而转换成标量对张量求导。\n",
    "###举个例子，假设形状为 m x n 的矩阵 X 经过运算得到了 p x q 的矩阵 Y，Y 又经过运算得到了 s x t 的矩阵 Z。\n",
    "###那么按照前面讲的规则，dZ/dY 应该是一个 s x t x p x q 四维张量，dY/dX 是一个 p x q x m x n的四维张量。\n",
    "\n",
    "###问题来了，怎样反向传播？怎样将两个四维张量相乘？？？这要怎么乘？？？\n",
    "###就算能解决两个四维张量怎么乘的问题，四维和三维的张量又怎么乘？导数的导数又怎么求，这一连串的问题，感觉要疯掉…… \n",
    "\n",
    "###为了避免这个问题，我们不允许张量对张量求导，只允许标量对张量求导，求导结果是和自变量同形的张量。\n",
    "###所以必要时我们要把张量通过将所有张量的元素加权求和的方式转换为标量，\n",
    "###举个例子，假设y由自变量x计算而来，w是和y同形的张量，则y.backward(w)的含义是：先计算l = torch.sum(y * w)，\n",
    "###则l是个标量，然后求l对自变量x的导数。\n",
    "x = t.tensor([1.0, 2.0, 3.0, 4.0], requires_grad=True)\n",
    "y = 2 * x\n",
    "print(\"y=\",y)\n",
    "z = y.view(2, 2)\n",
    "print(\"z=\",z)"
   ]
  },
  {
   "cell_type": "code",
   "execution_count": 8,
   "metadata": {},
   "outputs": [
    {
     "name": "stdout",
     "output_type": "stream",
     "text": [
      "None\n",
      "tensor([2.0000, 0.2000, 0.0200, 0.0020])\n"
     ]
    }
   ],
   "source": [
    "##################现在 z 不是一个标量，所以在调用backward时需要传入一个和z同形的权重向量进行加权求和得到一个标量。\n",
    "v = t.tensor([[1.0, 0.1], [0.01, 0.001]], dtype=t.float)\n",
    "z.backward(v)\n",
    "print(v.grad)\n",
    "print(x.grad)\n",
    "##图片手动推导"
   ]
  },
  {
   "cell_type": "code",
   "execution_count": 9,
   "metadata": {},
   "outputs": [
    {
     "name": "stdout",
     "output_type": "stream",
     "text": [
      "True\n",
      "tensor(1., grad_fn=<PowBackward0>) True\n",
      "tensor(1.) False\n",
      "tensor(2., grad_fn=<AddBackward0>) True\n"
     ]
    }
   ],
   "source": [
    "###中断梯度追踪的例子\n",
    "\n",
    "###为了防止跟踪历史记录(和使用内存），可以将代码块包装在 with torch.no_grad(): 中。\n",
    "###在评估模型时特别有用，因为模型可能具有 requires_grad = True 的可训练的参数，但是我们不需要在此过程中对他们进行梯度计算。\n",
    "\n",
    "x = t.tensor(1.0, requires_grad=True)\n",
    "y1 = x ** 2 \n",
    "with t.no_grad():\n",
    "    y2 = x ** 3\n",
    "y3 = y1 + y2\n",
    "\n",
    "print(x.requires_grad)\n",
    "print(y1, y1.requires_grad) # True\n",
    "print(y2, y2.requires_grad) # False\n",
    "print(y3, y3.requires_grad) # True"
   ]
  },
  {
   "cell_type": "code",
   "execution_count": 10,
   "metadata": {},
   "outputs": [
    {
     "name": "stdout",
     "output_type": "stream",
     "text": [
      "tensor(2.)\n"
     ]
    }
   ],
   "source": [
    "#反向传播y3\n",
    "y3.backward()\n",
    "print(x.grad)"
   ]
  },
  {
   "cell_type": "code",
   "execution_count": 11,
   "metadata": {},
   "outputs": [
    {
     "name": "stdout",
     "output_type": "stream",
     "text": [
      "tensor([1.], requires_grad=True)\n",
      "tensor([1.])\n",
      "False\n",
      "tensor([100.], requires_grad=True)\n",
      "tensor([2.])\n"
     ]
    }
   ],
   "source": [
    "##如果我们想要修改tensor的数值，但是又不希望被autograd记录（即不会影响反向传播），那么我么可以对tensor.data进行操作。\n",
    "x = t.ones(1,requires_grad=True)\n",
    "print(x)\n",
    "print(x.data) # 还是一个tensor\n",
    "print(x.data.requires_grad) # 但是已经是独立于计算图之外\n",
    "\n",
    "y = 2 * x\n",
    "x.data *= 100 # 只改变了值，不会记录在计算图，所以不会影响梯度传播\n",
    "\n",
    "y.backward()\n",
    "print(x) # 更改data的值也会影响tensor的值\n",
    "print(x.grad)"
   ]
  },
  {
   "cell_type": "code",
   "execution_count": 12,
   "metadata": {},
   "outputs": [],
   "source": [
    "###如果y= w * x， 计算y对w的梯度时需要用到x的值，这些数值会在前向传播过程中保存为buffer值，在梯度计算完成后释放，\n",
    "##所以在backward()时要保留计算图\n",
    "###反向传播过程中非叶子节点的导数计算完成即被清空，要查看可以用t.autograd.grad(z,y)查看 #z为根节点 y为中间结点"
   ]
  },
  {
   "cell_type": "code",
   "execution_count": null,
   "metadata": {},
   "outputs": [],
   "source": []
  }
 ],
 "metadata": {
  "kernelspec": {
   "display_name": "Python 3",
   "language": "python",
   "name": "python3"
  },
  "language_info": {
   "codemirror_mode": {
    "name": "ipython",
    "version": 3
   },
   "file_extension": ".py",
   "mimetype": "text/x-python",
   "name": "python",
   "nbconvert_exporter": "python",
   "pygments_lexer": "ipython3",
   "version": "3.7.6"
  }
 },
 "nbformat": 4,
 "nbformat_minor": 4
}
